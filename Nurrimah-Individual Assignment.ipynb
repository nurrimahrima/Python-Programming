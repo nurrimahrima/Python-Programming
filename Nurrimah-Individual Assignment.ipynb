{
 "cells": [
  {
   "cell_type": "code",
   "execution_count": 164,
   "metadata": {},
   "outputs": [
    {
     "name": "stdout",
     "output_type": "stream",
     "text": [
      "(3781, 36)\n"
     ]
    }
   ],
   "source": [
    "#Exercise\n",
    "#1.how many row and column on data\n",
    "print(imdb_update.shape)"
   ]
  },
  {
   "cell_type": "code",
   "execution_count": 168,
   "metadata": {},
   "outputs": [
    {
     "data": {
      "text/html": [
       "<div>\n",
       "<style scoped>\n",
       "    .dataframe tbody tr th:only-of-type {\n",
       "        vertical-align: middle;\n",
       "    }\n",
       "\n",
       "    .dataframe tbody tr th {\n",
       "        vertical-align: top;\n",
       "    }\n",
       "\n",
       "    .dataframe thead th {\n",
       "        text-align: right;\n",
       "    }\n",
       "</style>\n",
       "<table border=\"1\" class=\"dataframe\">\n",
       "  <thead>\n",
       "    <tr style=\"text-align: right;\">\n",
       "      <th></th>\n",
       "      <th>movie_ID</th>\n",
       "      <th>movie_title</th>\n",
       "      <th>duration</th>\n",
       "      <th>color</th>\n",
       "      <th>title_year</th>\n",
       "      <th>country</th>\n",
       "      <th>language</th>\n",
       "      <th>content_rating</th>\n",
       "      <th>budget_USD</th>\n",
       "      <th>gross_USD</th>\n",
       "      <th>...</th>\n",
       "      <th>actor_3_facebook?</th>\n",
       "      <th>actor_3_facebook_likes</th>\n",
       "      <th>cast_total_facebook_likes</th>\n",
       "      <th>movie_facebook?</th>\n",
       "      <th>movie_facebook_likes;</th>\n",
       "      <th>facenumber_in_poster</th>\n",
       "      <th>num_voted_users</th>\n",
       "      <th>num_user_for_reviews</th>\n",
       "      <th>imdb_score</th>\n",
       "      <th>imdb_top_250</th>\n",
       "    </tr>\n",
       "  </thead>\n",
       "  <tbody>\n",
       "    <tr>\n",
       "      <th>1614</th>\n",
       "      <td>1615</td>\n",
       "      <td>The Hunger Games: Catching Fire</td>\n",
       "      <td>146</td>\n",
       "      <td>1</td>\n",
       "      <td>2013</td>\n",
       "      <td>USA</td>\n",
       "      <td>English</td>\n",
       "      <td>PG-13</td>\n",
       "      <td>130000000</td>\n",
       "      <td>424645577</td>\n",
       "      <td>...</td>\n",
       "      <td>1</td>\n",
       "      <td>523</td>\n",
       "      <td>49355</td>\n",
       "      <td>1</td>\n",
       "      <td>82000</td>\n",
       "      <td>1</td>\n",
       "      <td>498397</td>\n",
       "      <td>706</td>\n",
       "      <td>7.6</td>\n",
       "      <td>0</td>\n",
       "    </tr>\n",
       "    <tr>\n",
       "      <th>236</th>\n",
       "      <td>237</td>\n",
       "      <td>Despicable Me 2</td>\n",
       "      <td>98</td>\n",
       "      <td>1</td>\n",
       "      <td>2013</td>\n",
       "      <td>USA</td>\n",
       "      <td>English</td>\n",
       "      <td>PG</td>\n",
       "      <td>76000000</td>\n",
       "      <td>368049635</td>\n",
       "      <td>...</td>\n",
       "      <td>1</td>\n",
       "      <td>1000</td>\n",
       "      <td>11905</td>\n",
       "      <td>1</td>\n",
       "      <td>56000</td>\n",
       "      <td>0</td>\n",
       "      <td>286877</td>\n",
       "      <td>284</td>\n",
       "      <td>7.5</td>\n",
       "      <td>0</td>\n",
       "    </tr>\n",
       "    <tr>\n",
       "      <th>57</th>\n",
       "      <td>58</td>\n",
       "      <td>Frozen</td>\n",
       "      <td>102</td>\n",
       "      <td>1</td>\n",
       "      <td>2013</td>\n",
       "      <td>USA</td>\n",
       "      <td>English</td>\n",
       "      <td>PG</td>\n",
       "      <td>150000000</td>\n",
       "      <td>400736600</td>\n",
       "      <td>...</td>\n",
       "      <td>1</td>\n",
       "      <td>490</td>\n",
       "      <td>2582</td>\n",
       "      <td>1</td>\n",
       "      <td>58000</td>\n",
       "      <td>0</td>\n",
       "      <td>421658</td>\n",
       "      <td>904</td>\n",
       "      <td>7.6</td>\n",
       "      <td>0</td>\n",
       "    </tr>\n",
       "  </tbody>\n",
       "</table>\n",
       "<p>3 rows × 36 columns</p>\n",
       "</div>"
      ],
      "text/plain": [
       "      movie_ID                      movie_title  duration  color  title_year  \\\n",
       "1614      1615  The Hunger Games: Catching Fire       146      1        2013   \n",
       "236        237                  Despicable Me 2        98      1        2013   \n",
       "57          58                           Frozen       102      1        2013   \n",
       "\n",
       "     country language content_rating  budget_USD  gross_USD      ...       \\\n",
       "1614     USA  English          PG-13   130000000  424645577      ...        \n",
       "236      USA  English             PG    76000000  368049635      ...        \n",
       "57       USA  English             PG   150000000  400736600      ...        \n",
       "\n",
       "      actor_3_facebook?  actor_3_facebook_likes cast_total_facebook_likes  \\\n",
       "1614                  1                     523                     49355   \n",
       "236                   1                    1000                     11905   \n",
       "57                    1                     490                      2582   \n",
       "\n",
       "     movie_facebook?  movie_facebook_likes;  facenumber_in_poster  \\\n",
       "1614               1                  82000                     1   \n",
       "236                1                  56000                     0   \n",
       "57                 1                  58000                     0   \n",
       "\n",
       "     num_voted_users  num_user_for_reviews  imdb_score  imdb_top_250  \n",
       "1614          498397                   706         7.6             0  \n",
       "236           286877                   284         7.5             0  \n",
       "57            421658                   904         7.6             0  \n",
       "\n",
       "[3 rows x 36 columns]"
      ]
     },
     "execution_count": 168,
     "metadata": {},
     "output_type": "execute_result"
    }
   ],
   "source": [
    "#2. top 3 movies with highest nett profit 2013\n",
    "imdb_update[imdb_update.title_year == 2013].sort_values(by=['net_USD'], ascending=False).head(3)"
   ]
  },
  {
   "cell_type": "code",
   "execution_count": 176,
   "metadata": {},
   "outputs": [
    {
     "data": {
      "text/html": [
       "<div>\n",
       "<style scoped>\n",
       "    .dataframe tbody tr th:only-of-type {\n",
       "        vertical-align: middle;\n",
       "    }\n",
       "\n",
       "    .dataframe tbody tr th {\n",
       "        vertical-align: top;\n",
       "    }\n",
       "\n",
       "    .dataframe thead th {\n",
       "        text-align: right;\n",
       "    }\n",
       "</style>\n",
       "<table border=\"1\" class=\"dataframe\">\n",
       "  <thead>\n",
       "    <tr style=\"text-align: right;\">\n",
       "      <th></th>\n",
       "      <th>movie_ID</th>\n",
       "      <th>movie_title</th>\n",
       "      <th>duration</th>\n",
       "      <th>color</th>\n",
       "      <th>title_year</th>\n",
       "      <th>country</th>\n",
       "      <th>language</th>\n",
       "      <th>content_rating</th>\n",
       "      <th>budget_USD</th>\n",
       "      <th>gross_USD</th>\n",
       "      <th>...</th>\n",
       "      <th>actor_3_facebook?</th>\n",
       "      <th>actor_3_facebook_likes</th>\n",
       "      <th>cast_total_facebook_likes</th>\n",
       "      <th>movie_facebook?</th>\n",
       "      <th>movie_facebook_likes;</th>\n",
       "      <th>facenumber_in_poster</th>\n",
       "      <th>num_voted_users</th>\n",
       "      <th>num_user_for_reviews</th>\n",
       "      <th>imdb_score</th>\n",
       "      <th>imdb_top_250</th>\n",
       "    </tr>\n",
       "  </thead>\n",
       "  <tbody>\n",
       "    <tr>\n",
       "      <th>0</th>\n",
       "      <td>1</td>\n",
       "      <td>Avatar</td>\n",
       "      <td>178</td>\n",
       "      <td>1</td>\n",
       "      <td>2009</td>\n",
       "      <td>USA</td>\n",
       "      <td>English</td>\n",
       "      <td>PG-13</td>\n",
       "      <td>237000000</td>\n",
       "      <td>760505847</td>\n",
       "      <td>...</td>\n",
       "      <td>1</td>\n",
       "      <td>855</td>\n",
       "      <td>4834</td>\n",
       "      <td>1</td>\n",
       "      <td>33000</td>\n",
       "      <td>0</td>\n",
       "      <td>886204</td>\n",
       "      <td>3054</td>\n",
       "      <td>7.9</td>\n",
       "      <td>0</td>\n",
       "    </tr>\n",
       "    <tr>\n",
       "      <th>19</th>\n",
       "      <td>20</td>\n",
       "      <td>Transformers: Revenge of the Fallen</td>\n",
       "      <td>150</td>\n",
       "      <td>1</td>\n",
       "      <td>2009</td>\n",
       "      <td>USA</td>\n",
       "      <td>English</td>\n",
       "      <td>PG-13</td>\n",
       "      <td>200000000</td>\n",
       "      <td>402076689</td>\n",
       "      <td>...</td>\n",
       "      <td>1</td>\n",
       "      <td>464</td>\n",
       "      <td>3218</td>\n",
       "      <td>0</td>\n",
       "      <td>0</td>\n",
       "      <td>0</td>\n",
       "      <td>323207</td>\n",
       "      <td>1439</td>\n",
       "      <td>6.0</td>\n",
       "      <td>0</td>\n",
       "    </tr>\n",
       "    <tr>\n",
       "      <th>3094</th>\n",
       "      <td>3095</td>\n",
       "      <td>Harry Potter and the Half-Blood Prince</td>\n",
       "      <td>153</td>\n",
       "      <td>1</td>\n",
       "      <td>2009</td>\n",
       "      <td>UK</td>\n",
       "      <td>English</td>\n",
       "      <td>PG</td>\n",
       "      <td>250000000</td>\n",
       "      <td>301956980</td>\n",
       "      <td>...</td>\n",
       "      <td>1</td>\n",
       "      <td>10000</td>\n",
       "      <td>58753</td>\n",
       "      <td>1</td>\n",
       "      <td>10000</td>\n",
       "      <td>3</td>\n",
       "      <td>321795</td>\n",
       "      <td>973</td>\n",
       "      <td>7.5</td>\n",
       "      <td>0</td>\n",
       "    </tr>\n",
       "  </tbody>\n",
       "</table>\n",
       "<p>3 rows × 36 columns</p>\n",
       "</div>"
      ],
      "text/plain": [
       "      movie_ID                             movie_title  duration  color  \\\n",
       "0            1                                  Avatar       178      1   \n",
       "19          20     Transformers: Revenge of the Fallen       150      1   \n",
       "3094      3095  Harry Potter and the Half-Blood Prince       153      1   \n",
       "\n",
       "      title_year country language content_rating  budget_USD  gross_USD  \\\n",
       "0           2009     USA  English          PG-13   237000000  760505847   \n",
       "19          2009     USA  English          PG-13   200000000  402076689   \n",
       "3094        2009      UK  English             PG   250000000  301956980   \n",
       "\n",
       "          ...       actor_3_facebook?  actor_3_facebook_likes  \\\n",
       "0         ...                       1                     855   \n",
       "19        ...                       1                     464   \n",
       "3094      ...                       1                   10000   \n",
       "\n",
       "     cast_total_facebook_likes movie_facebook?  movie_facebook_likes;  \\\n",
       "0                         4834               1                  33000   \n",
       "19                        3218               0                      0   \n",
       "3094                     58753               1                  10000   \n",
       "\n",
       "      facenumber_in_poster num_voted_users  num_user_for_reviews  imdb_score  \\\n",
       "0                        0          886204                  3054         7.9   \n",
       "19                       0          323207                  1439         6.0   \n",
       "3094                     3          321795                   973         7.5   \n",
       "\n",
       "      imdb_top_250  \n",
       "0                0  \n",
       "19               0  \n",
       "3094             0  \n",
       "\n",
       "[3 rows x 36 columns]"
      ]
     },
     "execution_count": 176,
     "metadata": {},
     "output_type": "execute_result"
    }
   ],
   "source": [
    "#3. top 3 movies with highest gross in 2009\n",
    "imdb_update[imdb_update.title_year == 2009].sort_values(by=['gross_USD'], ascending=False).head(3)"
   ]
  },
  {
   "cell_type": "code",
   "execution_count": 185,
   "metadata": {},
   "outputs": [
    {
     "data": {
      "text/plain": [
       "153"
      ]
     },
     "execution_count": 185,
     "metadata": {},
     "output_type": "execute_result"
    }
   ],
   "source": [
    "#4. how many NON english movies\n",
    "len(imdb_update[imdb_update.language != 'English']['language'])"
   ]
  },
  {
   "cell_type": "code",
   "execution_count": 187,
   "metadata": {},
   "outputs": [
    {
     "data": {
      "text/plain": [
       "French      33\n",
       "Spanish     23\n",
       "Mandarin    14\n",
       "Name: language, dtype: int64"
      ]
     },
     "execution_count": 187,
     "metadata": {},
     "output_type": "execute_result"
    }
   ],
   "source": [
    "#5. top 3 languages in data aside english (based on number movies)\n",
    "imdb_update[imdb_update.language != 'English']['language'].value_counts().head(3)"
   ]
  },
  {
   "cell_type": "code",
   "execution_count": 195,
   "metadata": {},
   "outputs": [
    {
     "data": {
      "text/plain": [
       "country\n",
       "USA          52003933174\n",
       "UK            1531614524\n",
       "Australia      252571616\n",
       "Name: net_USD, dtype: int64"
      ]
     },
     "execution_count": 195,
     "metadata": {},
     "output_type": "execute_result"
    }
   ],
   "source": [
    "#6. Top 3 countries with highest nett profit in all dataset times\n",
    "imdb_update[['country','net_USD']].groupby('country').net_USD.sum().sort_values(ascending=False).head(3) \n",
    "#groupby = Group by di sql"
   ]
  },
  {
   "cell_type": "code",
   "execution_count": 196,
   "metadata": {},
   "outputs": [
    {
     "data": {
      "text/plain": [
       "budget_USD    5.106961e+07\n",
       "dtype: float64"
      ]
     },
     "execution_count": 196,
     "metadata": {},
     "output_type": "execute_result"
    }
   ],
   "source": [
    "#7. average budget of all movies in dataset 2013\n",
    "imdb_update[imdb_update.title_year == 2013][[\"budget_USD\"]].mean()"
   ]
  },
  {
   "cell_type": "code",
   "execution_count": 197,
   "metadata": {},
   "outputs": [
    {
     "data": {
      "text/plain": [
       "budget_USD    4.991901e+07\n",
       "dtype: float64"
      ]
     },
     "execution_count": 197,
     "metadata": {},
     "output_type": "execute_result"
    }
   ],
   "source": [
    "#8. average budget of all movies in dataset 2014\n",
    "imdb_update[imdb_update.title_year == 2014][[\"budget_USD\"]].mean()"
   ]
  },
  {
   "cell_type": "code",
   "execution_count": 198,
   "metadata": {},
   "outputs": [],
   "source": [
    "#9. which one is higher between no 7 and 8\n",
    "#2013"
   ]
  },
  {
   "cell_type": "code",
   "execution_count": 228,
   "metadata": {},
   "outputs": [
    {
     "data": {
      "text/html": [
       "<div>\n",
       "<style scoped>\n",
       "    .dataframe tbody tr th:only-of-type {\n",
       "        vertical-align: middle;\n",
       "    }\n",
       "\n",
       "    .dataframe tbody tr th {\n",
       "        vertical-align: top;\n",
       "    }\n",
       "\n",
       "    .dataframe thead th {\n",
       "        text-align: right;\n",
       "    }\n",
       "</style>\n",
       "<table border=\"1\" class=\"dataframe\">\n",
       "  <thead>\n",
       "    <tr style=\"text-align: right;\">\n",
       "      <th></th>\n",
       "      <th>movie_title</th>\n",
       "      <th>net_USD</th>\n",
       "    </tr>\n",
       "  </thead>\n",
       "  <tbody>\n",
       "    <tr>\n",
       "      <th>0</th>\n",
       "      <td>Avatar</td>\n",
       "      <td>523505847</td>\n",
       "    </tr>\n",
       "  </tbody>\n",
       "</table>\n",
       "</div>"
      ],
      "text/plain": [
       "  movie_title    net_USD\n",
       "0      Avatar  523505847"
      ]
     },
     "execution_count": 228,
     "metadata": {},
     "output_type": "execute_result"
    }
   ],
   "source": [
    "#10. What movie that resulted highest nett profit of all dataset times? How much did the movie make?\n",
    "imdb_update[['movie_title','net_USD']].sort_values(by=['net_USD'], ascending=False).head(1)"
   ]
  },
  {
   "cell_type": "code",
   "execution_count": null,
   "metadata": {},
   "outputs": [],
   "source": []
  }
 ],
 "metadata": {
  "kernelspec": {
   "display_name": "Python 3",
   "language": "python",
   "name": "python3"
  },
  "language_info": {
   "codemirror_mode": {
    "name": "ipython",
    "version": 3
   },
   "file_extension": ".py",
   "mimetype": "text/x-python",
   "name": "python",
   "nbconvert_exporter": "python",
   "pygments_lexer": "ipython3",
   "version": "3.6.4"
  }
 },
 "nbformat": 4,
 "nbformat_minor": 2
}
